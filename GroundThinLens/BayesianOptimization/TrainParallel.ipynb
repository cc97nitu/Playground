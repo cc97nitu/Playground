{
 "cells": [
  {
   "cell_type": "markdown",
   "id": "assigned-retailer",
   "metadata": {},
   "source": [
    "call TrainAndSave.py to train many models with different initialization of quadrupoles"
   ]
  },
  {
   "cell_type": "code",
   "execution_count": 26,
   "id": "taken-utility",
   "metadata": {},
   "outputs": [],
   "source": [
    "import sys\n",
    "sys.path.append(\"../../\")\n",
    "\n",
    "import subprocess\n",
    "import time\n",
    "\n",
    "import torch"
   ]
  },
  {
   "cell_type": "markdown",
   "id": "political-necklace",
   "metadata": {},
   "source": [
    "call train script in parallel and receive losses"
   ]
  },
  {
   "cell_type": "code",
   "execution_count": 43,
   "id": "stone-rehabilitation",
   "metadata": {},
   "outputs": [],
   "source": [
    "regexLoss = re.compile(\"final loss: (.*)\")\n",
    "\n",
    "def invokeTraining(parameters: list) -> list:\n",
    "    procs = list()\n",
    "    for param in parameters:\n",
    "        # start training in seperate process\n",
    "        run = subprocess.Popen([\"python\", \"TrainAndSave.py\", str(param[0]), str(param[1]), str(param[2])],\n",
    "                               shell=False, stdin=None, stdout=subprocess.PIPE, stderr=subprocess.PIPE, close_fds=True)\n",
    "        \n",
    "        procs.append(run)\n",
    "    \n",
    "    print(\"processes started\")\n",
    "    \n",
    "    # wait for results\n",
    "    for proc in procs:\n",
    "        while True:\n",
    "            if proc.poll() is None:\n",
    "                time.sleep(1)\n",
    "                continue\n",
    "            break\n",
    "    \n",
    "    # check return codes\n",
    "    for proc in procs:\n",
    "        if proc.returncode != 0:\n",
    "            # look at stdout and stderr\n",
    "            out, err = proc.communicate()\n",
    "            \n",
    "            print(\"stdout\")\n",
    "            print(out.decode(\"utf-8\"))\n",
    "            print(\"stderr\")\n",
    "            print(err.decode(\"utf-8\"))\n",
    "            \n",
    "            # abort\n",
    "            print(\"exit code: {}\".format(proc.returncode))\n",
    "            raise IOError(\"training process returned non-zero exit code\")\n",
    "    \n",
    "    # get final losses\n",
    "    outs = list()\n",
    "    for proc in procs:\n",
    "        out, err = proc.communicate()\n",
    "        outs.append(out)\n",
    "    \n",
    "    losses = list()\n",
    "    for out in outs:\n",
    "        for line in out.decode(\"utf-8\").splitlines():\n",
    "            match = regexLoss.search(line)\n",
    "            if match:\n",
    "                print(match.group(1))\n",
    "                loss = float(match.group(1))\n",
    "                losses.append(loss)"
   ]
  },
  {
   "cell_type": "code",
   "execution_count": 44,
   "id": "starting-semiconductor",
   "metadata": {},
   "outputs": [
    {
     "name": "stdout",
     "output_type": "stream",
     "text": [
      "processes started\n",
      "9.198180174271036e-11\n",
      "7.3404597645536605e+127\n"
     ]
    }
   ],
   "source": [
    "parameters = [[4.3, 3.1, 1e-5], [4.4, 3.2, 1e-3],]\n",
    "\n",
    "losses = invokeTraining(parameters)"
   ]
  },
  {
   "cell_type": "markdown",
   "id": "embedded-python",
   "metadata": {},
   "source": [
    "create initial fit data"
   ]
  },
  {
   "cell_type": "code",
   "execution_count": 50,
   "id": "fatty-class",
   "metadata": {},
   "outputs": [
    {
     "data": {
      "text/plain": [
       "3.1622776601683795e-05"
      ]
     },
     "execution_count": 50,
     "metadata": {},
     "output_type": "execute_result"
    }
   ],
   "source": [
    "10**(-4.5)"
   ]
  },
  {
   "cell_type": "code",
   "execution_count": null,
   "id": "graphic-specialist",
   "metadata": {},
   "outputs": [],
   "source": []
  }
 ],
 "metadata": {
  "kernelspec": {
   "display_name": "Python 3",
   "language": "python",
   "name": "python3"
  },
  "language_info": {
   "codemirror_mode": {
    "name": "ipython",
    "version": 3
   },
   "file_extension": ".py",
   "mimetype": "text/x-python",
   "name": "python",
   "nbconvert_exporter": "python",
   "pygments_lexer": "ipython3",
   "version": "3.8.5"
  }
 },
 "nbformat": 4,
 "nbformat_minor": 5
}
