{
 "cells": [
  {
   "cell_type": "code",
   "execution_count": 1,
   "id": "powerful-repair",
   "metadata": {},
   "outputs": [],
   "source": [
    "import sys\n",
    "sys.path.append(\"../../\")\n",
    "\n",
    "import torch\n",
    "\n",
    "from cpymad.madx import Madx\n",
    "import pysixtrack\n",
    "import sixtracklib as stl\n",
    "\n",
    "from GroundThinLens.SampleBeam import Beam\n",
    "from ThinLens.Models import SIS18_Lattice, F0D0Model"
   ]
  },
  {
   "cell_type": "code",
   "execution_count": 2,
   "id": "together-philippines",
   "metadata": {},
   "outputs": [],
   "source": [
    "dim = 6\n",
    "slices = 10\n",
    "quadSliceMultiplicity = 1\n",
    "dtype = torch.double\n",
    "device = torch.device(\"cuda\")\n",
    "outputPerElement = False  # exceeds outputAtBPM\n",
    "outputAtBPM = False\n",
    "\n",
    "# prepare models\n",
    "Lattice = SIS18_Lattice\n",
    "\n",
    "model = Lattice(dim=dim, slices=slices, quadSliceMultiplicity=quadSliceMultiplicity,\n",
    "                dtype=dtype, cellsIdentical=True).to(device)\n",
    "\n",
    "# model = F0D0Model(k1=0.3, slices=slices, dim=dim, dtype=dtype)"
   ]
  },
  {
   "cell_type": "code",
   "execution_count": 3,
   "id": "subject-recycling",
   "metadata": {},
   "outputs": [],
   "source": [
    "# train set\n",
    "if dim == 6:\n",
    "    beam = Beam(mass=18.798, energy=19.0, exn=1.258e-6, eyn=2.005e-6, sigt=0.00, sige=0.000, particles=int(1e5))\n",
    "    bunch = beam.bunch.to(device)\n",
    "\n",
    "turns = 100"
   ]
  },
  {
   "cell_type": "code",
   "execution_count": 4,
   "id": "adopted-teddy",
   "metadata": {},
   "outputs": [
    {
     "name": "stdout",
     "output_type": "stream",
     "text": [
      "tracking completed within 81.96s\n"
     ]
    }
   ],
   "source": [
    "import time \n",
    "\n",
    "t0 = time.time()\n",
    "\n",
    "trackBunch = bunch\n",
    "with torch.no_grad():\n",
    "    for i in range(turns):\n",
    "        trackBunch = model(trackBunch)\n",
    "\n",
    "print(\"tracking completed within {:.2f}s\".format(time.time() - t0))\n",
    "\n",
    "bunch = bunch.cpu()\n",
    "trackBunch = trackBunch.cpu()"
   ]
  },
  {
   "cell_type": "markdown",
   "id": "apparent-income",
   "metadata": {},
   "source": [
    "set up STL tracking"
   ]
  },
  {
   "cell_type": "code",
   "execution_count": 5,
   "id": "permanent-interference",
   "metadata": {},
   "outputs": [
    {
     "data": {
      "text/plain": [
       "<BeamMonitor at 61784\n",
       "  num_stores:100\n",
       "  start:0\n",
       "  skip:1\n",
       "  out_address:0\n",
       "  max_particle_id:0\n",
       "  min_particle_id:0\n",
       "  is_rolling:0\n",
       "  is_turn_ordered:1\n",
       ">"
      ]
     },
     "execution_count": 5,
     "metadata": {},
     "output_type": "execute_result"
    }
   ],
   "source": [
    "output = True\n",
    "madx = Madx(stdout=False)\n",
    "madx.options.echo = output \n",
    "madx.options.warn = output \n",
    "madx.options.info = output \n",
    "\n",
    "# specify beam\n",
    "assert madx.command.beam(mass=18.798, charge=7, exn=1.258e-6, eyn=2.005e-6, gamma=19/18.798)  \n",
    "\n",
    "# activate sequence\n",
    "madx.input(model.thinMultipoleMadX())\n",
    "madx.command.use(sequence=\"SIS18\")\n",
    "\n",
    "# load into STL\n",
    "pysixtrack_elements = pysixtrack.Line.from_madx_sequence(\n",
    "        madx.sequence.sis18,\n",
    "        exact_drift=False, install_apertures=False,\n",
    "    )\n",
    "\n",
    "elements = stl.Elements.from_line(pysixtrack_elements)\n",
    "\n",
    "elements.BeamMonitor(num_stores=turns)"
   ]
  },
  {
   "cell_type": "markdown",
   "id": "casual-allen",
   "metadata": {},
   "source": [
    "set up bunch"
   ]
  },
  {
   "cell_type": "code",
   "execution_count": 6,
   "id": "above-farming",
   "metadata": {},
   "outputs": [],
   "source": [
    "# set up bunch\n",
    "beam = madx.sequence[\"sis18\"].beam\n",
    "particles = stl.Particles.from_ref(len(bunch), p0c=beam.pc, mass0=beam.mass)\n",
    "\n",
    "particles.x = bunch[:,0]\n",
    "particles.px = bunch[:,1]\n",
    "particles.y = bunch[:,2]\n",
    "particles.py = bunch[:,3]\n"
   ]
  },
  {
   "cell_type": "markdown",
   "id": "viral-equation",
   "metadata": {},
   "source": [
    "do track"
   ]
  },
  {
   "cell_type": "code",
   "execution_count": 7,
   "id": "national-escape",
   "metadata": {},
   "outputs": [
    {
     "name": "stdout",
     "output_type": "stream",
     "text": [
      "STL tracking completed within 157.11s\n"
     ]
    }
   ],
   "source": [
    "t0 = time.time()\n",
    "\n",
    "# track\n",
    "job = stl.TrackJob(elements, particles, device=None)\n",
    "\n",
    "job.track_until(turns)\n",
    "job.collect()\n",
    "\n",
    "print(\"STL tracking completed within {:.2f}s\".format(time.time() - t0))\n",
    "\n",
    "x = job.output.particles[0].x.reshape(-1, len(bunch)).transpose()\n",
    "y = job.output.particles[0].y.reshape(-1, len(bunch)).transpose()"
   ]
  },
  {
   "cell_type": "code",
   "execution_count": 8,
   "id": "colored-elevation",
   "metadata": {},
   "outputs": [
    {
     "name": "stdout",
     "output_type": "stream",
     "text": [
      "max deviation in x: 3.10e-05\n",
      "max deviation in y: 9.81e-05\n"
     ]
    }
   ],
   "source": [
    "xDiff = x[:,-1] - trackBunch[:,0].numpy()\n",
    "print(\"max deviation in x: {:.2e}\".format(xDiff.max()))\n",
    "\n",
    "yDiff = y[:,-1] - trackBunch[:,2].numpy()\n",
    "print(\"max deviation in y: {:.2e}\".format(yDiff.max()))"
   ]
  },
  {
   "cell_type": "code",
   "execution_count": null,
   "id": "whole-decimal",
   "metadata": {},
   "outputs": [],
   "source": []
  }
 ],
 "metadata": {
  "kernelspec": {
   "display_name": "Python 3",
   "language": "python",
   "name": "python3"
  },
  "language_info": {
   "codemirror_mode": {
    "name": "ipython",
    "version": 3
   },
   "file_extension": ".py",
   "mimetype": "text/x-python",
   "name": "python",
   "nbconvert_exporter": "python",
   "pygments_lexer": "ipython3",
   "version": "3.8.5"
  }
 },
 "nbformat": 4,
 "nbformat_minor": 5
}
