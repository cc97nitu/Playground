{
 "cells": [
  {
   "cell_type": "code",
   "execution_count": 23,
   "id": "pleased-sacramento",
   "metadata": {},
   "outputs": [],
   "source": [
    "import os\n",
    "import re\n",
    "import json\n",
    "import sys\n",
    "sys.path.append(\"../../\")\n",
    "\n",
    "import numpy as np\n",
    "import matplotlib as mpl\n",
    "mpl.rcParams['figure.dpi'] = 600\n",
    "import matplotlib.pyplot as plt\n",
    "import seaborn as sns\n",
    "import pandas as pd\n",
    "\n",
    "import torch\n",
    "import torch.nn as nn\n",
    "import torch.optim as optim\n",
    "import torch.utils.data\n",
    "\n",
    "import ThinLens.Elements as Elements\n",
    "import ThinLens.Maps as Maps\n",
    "from ThinLens.Models import F0D0Model, SIS18_Cell_minimal, SIS18_Cell, \\\n",
    "    SIS18_Lattice_minimal, SIS18_Lattice\n",
    "\n",
    "import tools.madX\n",
    "\n",
    "from cpymad.madx import TwissFailed"
   ]
  },
  {
   "cell_type": "markdown",
   "id": "nearby-carter",
   "metadata": {},
   "source": [
    "prepare model"
   ]
  },
  {
   "cell_type": "code",
   "execution_count": 24,
   "id": "brave-female",
   "metadata": {},
   "outputs": [],
   "source": [
    "dim = 6\n",
    "slices = 4\n",
    "quadSliceMultiplicity = 2\n",
    "dtype = torch.double\n",
    "device = torch.device(\"cpu\")\n",
    "outputPerElement = False  # exceeds outputAtBPM\n",
    "outputAtBPM = True\n",
    "\n",
    "# prepare models\n",
    "Lattice = SIS18_Lattice\n",
    "\n",
    "model = Lattice(dim=dim, slices=slices, quadSliceMultiplicity=quadSliceMultiplicity,\n",
    "                dtype=dtype, cellsIdentical=False)\n",
    "\n",
    "idealModel = Lattice(dim=dim, slices=slices, quadSliceMultiplicity=quadSliceMultiplicity, dtype=dtype,)\n",
    "\n",
    "# load averaged weights\n",
    "with open(\"/home/dylan/ThesisWorkspace/BayesianOptimization/dump/SIS18_Lattice_q1=0.3139705229205463,q2=-0.47506272187213366,step=0.0006653429815000447.json\") as file:\n",
    "    model.loadJSON(file)"
   ]
  },
  {
   "cell_type": "code",
   "execution_count": 25,
   "id": "another-reception",
   "metadata": {},
   "outputs": [],
   "source": [
    "def checkModelPerformance():\n",
    "    # check max weight deviation\n",
    "    weights, idealWeights = list(), list()\n",
    "    for e in range(len(model.elements)):\n",
    "        # only consider quadrupoles\n",
    "        if not type(model.elements[e]) is Elements.Quadrupole:\n",
    "            continue\n",
    "\n",
    "        for m in range(len(model.elements[e].maps)):\n",
    "            if model.elements[e].maps[m].weight.requires_grad:\n",
    "                weights.append(model.elements[e].maps[m].weight.item())\n",
    "                idealWeights.append(idealModel.elements[e].maps[m].weight.item())\n",
    "\n",
    "    weights, idealWeights = np.array(weights), np.array(idealWeights)\n",
    "    relWeightDiff = (weights - idealWeights) / idealWeights\n",
    "    maxWeightDeviation = np.max(np.abs(relWeightDiff)) * 100  # convert to percent\n",
    "    print(\"max. rel. deviation from ideal multipole strengths: {:.2f}%\".format(maxWeightDeviation))\n",
    "\n",
    "    # estimate beta-beating\n",
    "    twiss, idealTwiss = tools.madX.twissTable(model.madX()), tools.madX.twissTable(idealModel.madX())\n",
    "\n",
    "    beta, idealBeta = twiss[\"betx\"], idealTwiss[\"betx\"]\n",
    "\n",
    "    relDiff = (beta - idealBeta) / idealBeta\n",
    "    maxBetaBeat = np.max(np.abs(relDiff)) * 100  # convert to percent\n",
    "    print(\"{:.2f}%\".format(maxBetaBeat))\n",
    "\n",
    "    # get max tune diff\n",
    "    madXTunes = np.array(tools.madX.tune(model.madX()))\n",
    "    madXTunesIdeal = np.array(tools.madX.tune(idealModel.madX())) \n",
    "    maxTuneDev = np.max(np.abs((madXTunesIdeal - madXTunes) / madXTunesIdeal),) * 100  # convert to percent\n",
    "\n",
    "    q1, q2 = madXTunes[0], madXTunes[1]\n",
    "    return q1, q2, maxWeightDeviation, maxBetaBeat, maxTuneDev"
   ]
  },
  {
   "cell_type": "code",
   "execution_count": 26,
   "id": "focused-barrier",
   "metadata": {
    "scrolled": true
   },
   "outputs": [
    {
     "name": "stdout",
     "output_type": "stream",
     "text": [
      "max. rel. deviation from ideal multipole strengths: 0.65%\n",
      "1.46%\n"
     ]
    },
    {
     "data": {
      "text/plain": [
       "(4.229339325545347,\n",
       " 3.303016197388341,\n",
       " 0.6535665563226971,\n",
       " 1.4645630877338598,\n",
       " 0.07910213683718621)"
      ]
     },
     "execution_count": 26,
     "metadata": {},
     "output_type": "execute_result"
    }
   ],
   "source": [
    "checkModelPerformance()"
   ]
  },
  {
   "cell_type": "markdown",
   "id": "spare-surprise",
   "metadata": {},
   "source": [
    "check performance for samples within grid"
   ]
  },
  {
   "cell_type": "code",
   "execution_count": null,
   "id": "nervous-works",
   "metadata": {},
   "outputs": [
    {
     "name": "stdout",
     "output_type": "stream",
     "text": [
      "max. rel. deviation from ideal multipole strengths: 1.76%\n",
      "26.59%\n",
      "max. rel. deviation from ideal multipole strengths: 0.74%\n",
      "10.13%\n",
      "max. rel. deviation from ideal multipole strengths: 2.25%\n",
      "42.76%\n",
      "max. rel. deviation from ideal multipole strengths: 2.09%\n",
      "30.53%\n",
      "max. rel. deviation from ideal multipole strengths: 0.71%\n",
      "9.02%\n",
      "max. rel. deviation from ideal multipole strengths: 1.54%\n",
      "19.63%\n",
      "max. rel. deviation from ideal multipole strengths: 7.00%\n",
      "max. rel. deviation from ideal multipole strengths: 2.73%\n",
      "39.52%\n",
      "max. rel. deviation from ideal multipole strengths: 0.60%\n",
      "4.38%\n",
      "max. rel. deviation from ideal multipole strengths: 0.98%\n",
      "13.05%\n",
      "max. rel. deviation from ideal multipole strengths: 1.88%\n",
      "27.72%\n",
      "max. rel. deviation from ideal multipole strengths: 1.44%\n",
      "21.30%\n",
      "max. rel. deviation from ideal multipole strengths: 0.77%\n",
      "9.64%\n",
      "max. rel. deviation from ideal multipole strengths: 3.51%\n",
      "60.00%\n",
      "max. rel. deviation from ideal multipole strengths: 1.59%\n",
      "23.30%\n",
      "max. rel. deviation from ideal multipole strengths: 5.30%\n",
      "138.34%\n",
      "max. rel. deviation from ideal multipole strengths: 4.54%\n",
      "100.28%\n",
      "max. rel. deviation from ideal multipole strengths: 1.67%\n",
      "22.26%\n",
      "max. rel. deviation from ideal multipole strengths: 1.15%\n",
      "8.39%\n",
      "max. rel. deviation from ideal multipole strengths: 2.13%\n",
      "29.74%\n",
      "max. rel. deviation from ideal multipole strengths: 0.10%\n",
      "0.95%\n",
      "max. rel. deviation from ideal multipole strengths: 2.11%\n",
      "26.44%\n",
      "max. rel. deviation from ideal multipole strengths: 2.93%\n",
      "48.23%\n",
      "max. rel. deviation from ideal multipole strengths: 0.33%\n",
      "2.57%\n",
      "max. rel. deviation from ideal multipole strengths: 3.87%\n",
      "70.12%\n",
      "max. rel. deviation from ideal multipole strengths: 0.73%\n",
      "8.03%\n",
      "max. rel. deviation from ideal multipole strengths: 1.96%\n",
      "27.72%\n",
      "max. rel. deviation from ideal multipole strengths: 0.28%\n",
      "2.89%\n",
      "max. rel. deviation from ideal multipole strengths: 3.59%\n",
      "72.29%\n",
      "max. rel. deviation from ideal multipole strengths: 2.49%\n",
      "36.28%\n",
      "max. rel. deviation from ideal multipole strengths: 3.34%\n",
      "57.37%\n",
      "max. rel. deviation from ideal multipole strengths: 5.21%\n",
      "175.99%\n",
      "max. rel. deviation from ideal multipole strengths: 3.39%\n",
      "55.50%\n",
      "max. rel. deviation from ideal multipole strengths: 2.55%\n",
      "40.20%\n",
      "max. rel. deviation from ideal multipole strengths: 6.12%\n",
      "419.89%\n",
      "max. rel. deviation from ideal multipole strengths: 1.41%\n",
      "18.34%\n",
      "max. rel. deviation from ideal multipole strengths: 1.24%\n",
      "13.43%\n",
      "max. rel. deviation from ideal multipole strengths: 1.20%\n",
      "9.54%\n",
      "max. rel. deviation from ideal multipole strengths: 2.99%\n",
      "50.06%\n",
      "max. rel. deviation from ideal multipole strengths: 1.77%\n",
      "16.52%\n",
      "max. rel. deviation from ideal multipole strengths: 1.41%\n",
      "10.52%\n",
      "max. rel. deviation from ideal multipole strengths: 3.85%\n",
      "74.75%\n",
      "max. rel. deviation from ideal multipole strengths: 2.96%\n",
      "47.65%\n",
      "max. rel. deviation from ideal multipole strengths: 5.30%\n",
      "122.63%\n",
      "max. rel. deviation from ideal multipole strengths: 0.94%\n"
     ]
    }
   ],
   "source": [
    "regexFName = re.compile(\"SIS18_Lattice_q1=(-?[\\d.]*),q2=(-?[\\d.]*).json\")\n",
    "\n",
    "benchmark = list()\n",
    "for res in os.scandir(\"InitScan\"):\n",
    "    model.loadJSON(open(res, \"r\"))\n",
    "    \n",
    "    # benchmark\n",
    "    try:\n",
    "        bench = checkModelPerformance()\n",
    "        benchmark.append([ *bench])\n",
    "    except TwissFailed:\n",
    "        continue\n",
    "\n",
    "benchmark = np.array(benchmark)"
   ]
  },
  {
   "cell_type": "code",
   "execution_count": null,
   "id": "lucky-married",
   "metadata": {},
   "outputs": [],
   "source": [
    "benchData = benchmark\n",
    "benchData[:,0] = np.round(benchData[:,0])\n",
    "benchData[:,1] = np.round(benchData[:,1])\n",
    "\n",
    "# sort by first row\n",
    "benchData = benchData[np.argsort(benchData[:,0])]"
   ]
  },
  {
   "cell_type": "code",
   "execution_count": null,
   "id": "weird-sigma",
   "metadata": {},
   "outputs": [],
   "source": []
  }
 ],
 "metadata": {
  "kernelspec": {
   "display_name": "Python 3",
   "language": "python",
   "name": "python3"
  },
  "language_info": {
   "codemirror_mode": {
    "name": "ipython",
    "version": 3
   },
   "file_extension": ".py",
   "mimetype": "text/x-python",
   "name": "python",
   "nbconvert_exporter": "python",
   "pygments_lexer": "ipython3",
   "version": "3.8.5"
  }
 },
 "nbformat": 4,
 "nbformat_minor": 5
}
