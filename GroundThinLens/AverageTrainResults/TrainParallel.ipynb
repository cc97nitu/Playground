{
 "cells": [
  {
   "cell_type": "markdown",
   "id": "sensitive-modem",
   "metadata": {},
   "source": [
    "call TrainAndSave.py to train many models with different initialization of quadrupoles"
   ]
  },
  {
   "cell_type": "code",
   "execution_count": 2,
   "id": "prime-introduction",
   "metadata": {},
   "outputs": [],
   "source": [
    "import sys\n",
    "sys.path.append(\"../../\")\n",
    "\n",
    "import torch\n",
    "\n",
    "from cpymad.madx import Madx"
   ]
  },
  {
   "cell_type": "markdown",
   "id": "executive-locator",
   "metadata": {},
   "source": [
    "load model into Mad-X"
   ]
  },
  {
   "cell_type": "code",
   "execution_count": 20,
   "id": "reflected-switzerland",
   "metadata": {},
   "outputs": [
    {
     "data": {
      "text/plain": [
       "True"
      ]
     },
     "execution_count": 20,
     "metadata": {},
     "output_type": "execute_result"
    }
   ],
   "source": [
    "output = True\n",
    "madx = Madx(stdout=False)\n",
    "madx.options.echo = output \n",
    "madx.options.warn = output \n",
    "madx.options.info = output \n",
    "\n",
    "# specify beam\n",
    "assert madx.command.beam(mass=18.798, charge=7, exn=1.258e-6, eyn=2.005e-6, gamma=19/18.798)  \n",
    "\n",
    "# activate sequence\n",
    "sequence = \"SIS18\"\n",
    "madx.call(\"Lattice/SIS18.seq\")\n",
    "madx.input(\"\"\"\n",
    "iqf=3.12391e-01;\n",
    "iqd=-4.78047e-01;\n",
    "\n",
    "ik2f=0.0;\n",
    "ik2d=-0.0;\n",
    "\"\"\")\n",
    "madx.command.use(sequence=sequence)"
   ]
  },
  {
   "cell_type": "markdown",
   "id": "radio-montreal",
   "metadata": {},
   "source": [
    "match workingpoints"
   ]
  },
  {
   "cell_type": "code",
   "execution_count": 24,
   "id": "necessary-nevada",
   "metadata": {},
   "outputs": [],
   "source": [
    "hTunes, vTunes = torch.linspace(4.05, 4.45, 10), torch.linspace(3.05, 3.45, 10)\n",
    "\n",
    "for q1 in hTunes:\n",
    "    for q2 in vTunes:\n",
    "        # match tune\n",
    "        madx.input(\"\"\"\n",
    "        match, sequence={};\n",
    "        global, sequence={}, q1={}, q2={};\n",
    "        vary, name=iqf, step=0.00001;\n",
    "        vary, name=iqd, step=0.00001;\n",
    "        lmdif, calls=500, tolerance=1.0e-10;\n",
    "        endmatch;\n",
    "        \"\"\".format(sequence, sequence, q1, q2))\n",
    "        \n",
    "        iqf, iqd = madx.globals[\"iqf\"], madx.globals[\"iqd\"]\n",
    "        run = subprocess.Popen([\"python\", \"TrainAndSave.py\", str(iqf), str(iqd)],\n",
    "                               shell=False, stdin=None, stdout=None, stderr=None, close_fds=True)"
   ]
  }
 ],
 "metadata": {
  "kernelspec": {
   "display_name": "Python 3",
   "language": "python",
   "name": "python3"
  },
  "language_info": {
   "codemirror_mode": {
    "name": "ipython",
    "version": 3
   },
   "file_extension": ".py",
   "mimetype": "text/x-python",
   "name": "python",
   "nbconvert_exporter": "python",
   "pygments_lexer": "ipython3",
   "version": "3.8.5"
  }
 },
 "nbformat": 4,
 "nbformat_minor": 5
}
