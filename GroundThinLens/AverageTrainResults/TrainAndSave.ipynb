{
 "cells": [
  {
   "cell_type": "code",
   "execution_count": 1,
   "id": "underlying-associate",
   "metadata": {},
   "outputs": [],
   "source": [
    "import os.path\n",
    "import sys\n",
    "sys.path.append(\"../../\")\n",
    "\n",
    "import torch\n",
    "import torch.nn as nn\n",
    "import torch.optim as optim\n",
    "import torch.utils.data\n",
    "\n",
    "import ThinLens.Elements as Elements\n",
    "import ThinLens.Maps as Maps\n",
    "from ThinLens.Models import F0D0Model, SIS18_Cell_minimal, SIS18_Cell, \\\n",
    "    SIS18_Lattice_minimal, SIS18_Lattice\n"
   ]
  },
  {
   "cell_type": "markdown",
   "id": "affiliated-percentage",
   "metadata": {},
   "source": [
    "general settings"
   ]
  },
  {
   "cell_type": "code",
   "execution_count": 2,
   "id": "ignored-polyester",
   "metadata": {},
   "outputs": [
    {
     "name": "stdout",
     "output_type": "stream",
     "text": [
      "/home/dylan/ThesisWorkspace/Tracking/Playground/GroundThinLens/AverageTrainResults/trainDump/SIS18_Lattice_q1=0.318468,q2=-0.48032.json\n"
     ]
    }
   ],
   "source": [
    "dim = 6\n",
    "slices = 10\n",
    "quadSliceMultiplicity = 1\n",
    "dtype = torch.double\n",
    "device = torch.device(\"cpu\")\n",
    "outputPerElement = False  # exceeds outputAtBPM\n",
    "outputAtBPM = True\n",
    "\n",
    "# prepare models\n",
    "Lattice = SIS18_Lattice\n",
    "\n",
    "startK1f = 3.18468e-01\n",
    "startK1d = -4.80320e-01\n",
    "model = Lattice(k1f=startK1f, k1d=startK1d, dim=dim, slices=slices, quadSliceMultiplicity=quadSliceMultiplicity,\n",
    "                dtype=dtype, cellsIdentical=False).to(device)\n",
    "\n",
    "# workingpoint: q1=4.2, q2=3.3\n",
    "perturbedModel = Lattice(dim=dim, slices=slices, quadSliceMultiplicity=quadSliceMultiplicity,\n",
    "                         dtype=dtype).to(device)\n",
    "\n",
    "model.requires_grad_(False)\n",
    "perturbedModel.requires_grad_(False)\n",
    "\n",
    "# dump off\n",
    "fileName = \"trainDump/{}_q1={},q2={}.json\".format(type(model).__name__, startK1f, startK1d)\n",
    "\n",
    "if not os.path.isfile(fileName):\n",
    "    fPath = os.path.abspath(fileName)\n",
    "    print(fPath)\n",
    "\n",
    "    with open(fileName, \"w\") as file:\n",
    "        model.dumpJSON(file)\n",
    "else:\n",
    "    raise IOError()"
   ]
  },
  {
   "cell_type": "markdown",
   "id": "shaped-newcastle",
   "metadata": {},
   "source": [
    "create training data"
   ]
  },
  {
   "cell_type": "code",
   "execution_count": 3,
   "id": "seeing-isaac",
   "metadata": {},
   "outputs": [],
   "source": [
    "from GroundThinLens.SampleBeam import Beam\n",
    "\n",
    "# train set\n",
    "if dim == 6:\n",
    "    beam = Beam(mass=18.798, energy=19.0, exn=1.258e-6, eyn=2.005e-6, sigt=0.00, sige=0.000, particles=500)\n",
    "    bunch = beam.bunch[:].to(device)\n",
    "    label = perturbedModel(bunch, outputPerElement=outputPerElement, outputAtBPM=outputAtBPM).to(device)\n",
    "\n",
    "trainSet = torch.utils.data.TensorDataset(bunch, label)\n",
    "trainLoader = torch.utils.data.DataLoader(trainSet, batch_size=25,\n",
    "                                          shuffle=True, num_workers=2)"
   ]
  },
  {
   "cell_type": "markdown",
   "id": "expanded-boring",
   "metadata": {},
   "source": [
    "prepare training"
   ]
  },
  {
   "cell_type": "code",
   "execution_count": 4,
   "id": "distinguished-basis",
   "metadata": {},
   "outputs": [],
   "source": [
    "# activate gradients on kick maps\n",
    "for m in model.modules():\n",
    "    if type(m) is Elements.Quadrupole:\n",
    "        for mod in m.modules():\n",
    "            if type(mod) is Maps.QuadKick:\n",
    "                mod.requires_grad_(True)\n",
    "\n",
    "# set up optimizer\n",
    "# optimizer = optim.Adam(model.parameters(), lr=1e-4)\n",
    "optimizer = optim.Adam(model.parameters(), lr=5e-5)\n",
    "# optimizer = optim.Adam(model.parameters(), lr=5e-6)\n",
    "\n",
    "# loss function\n",
    "criterion = nn.MSELoss()"
   ]
  },
  {
   "cell_type": "markdown",
   "id": "present-lindsay",
   "metadata": {},
   "source": [
    "train model"
   ]
  },
  {
   "cell_type": "code",
   "execution_count": 5,
   "id": "catholic-medicare",
   "metadata": {},
   "outputs": [
    {
     "name": "stdout",
     "output_type": "stream",
     "text": [
      "9.57142092762451e-12\n",
      "training completed within 23.40s\n"
     ]
    }
   ],
   "source": [
    "import time\n",
    "\n",
    "def trainLoop(model, criterion, optimizer, epochs: int):\n",
    "    # train loop\n",
    "\n",
    "    for epoch in range(epochs):\n",
    "        for i, data in enumerate(trainLoader, 0):\n",
    "            bunch, label = data[0], data[1]\n",
    "\n",
    "            optimizer.zero_grad()\n",
    "\n",
    "            out = model(bunch, outputPerElement=outputPerElement, outputAtBPM=outputAtBPM)\n",
    "\n",
    "            # loss = criterion(out, label)  # full phase-space\n",
    "            loss = criterion(out[:, [0, 2], :], label[:, [0, 2], :])  # only x-, y-plane\n",
    "\n",
    "            loss.backward()\n",
    "            optimizer.step()\n",
    "\n",
    "        print(loss.item())\n",
    "\n",
    "    return\n",
    "\n",
    "# train\n",
    "t0 = time.time()\n",
    "\n",
    "trainLoop(model, criterion, optimizer, int(1e0))\n",
    "\n",
    "print(\"training completed within {:.2f}s\".format(time.time() - t0))"
   ]
  },
  {
   "cell_type": "markdown",
   "id": "answering-cement",
   "metadata": {},
   "source": [
    "save results"
   ]
  },
  {
   "cell_type": "code",
   "execution_count": 6,
   "id": "altered-boost",
   "metadata": {},
   "outputs": [],
   "source": [
    "# dump off\n",
    "with open(fileName, \"w\") as file:\n",
    "    model.dumpJSON(file)"
   ]
  },
  {
   "cell_type": "markdown",
   "id": "cross-handle",
   "metadata": {},
   "source": [
    "compare tunes"
   ]
  },
  {
   "cell_type": "code",
   "execution_count": 7,
   "id": "reserved-philadelphia",
   "metadata": {},
   "outputs": [
    {
     "name": "stdout",
     "output_type": "stream",
     "text": [
      "perturbed model tunes: [0.22577502984981296, 0.299027622832203]\n",
      "trained model tunes: [0.28926923412141536, 0.3216291744221588]\n",
      "perturbed model tunes from Mad-X: [4.225775029849816, 3.299027622832212]\n",
      "trained model tunes from Mad-X: [4.289269234121411, 3.321629174422164]\n"
     ]
    }
   ],
   "source": [
    "import tools.madX\n",
    "\n",
    "print(\"perturbed model tunes: {}\".format(perturbedModel.getTunes()))\n",
    "print(\"trained model tunes: {}\".format(model.getTunes()))\n",
    "print(\"perturbed model tunes from Mad-X: {}\".format(tools.madX.tune(perturbedModel.madX())))\n",
    "print(\"trained model tunes from Mad-X: {}\".format(tools.madX.tune(model.madX())))"
   ]
  },
  {
   "cell_type": "markdown",
   "id": "public-warren",
   "metadata": {},
   "source": [
    "estimate magnitude of beta-beating"
   ]
  },
  {
   "cell_type": "code",
   "execution_count": 20,
   "id": "weekly-insured",
   "metadata": {},
   "outputs": [
    {
     "name": "stdout",
     "output_type": "stream",
     "text": [
      "31.02%\n"
     ]
    }
   ],
   "source": [
    "import numpy as np\n",
    "\n",
    "twiss, idealTwiss = tools.madX.twissTable(model.madX()), tools.madX.twissTable(perturbedModel.madX())\n",
    "\n",
    "beta, idealBeta = twiss[\"betx\"], idealTwiss[\"betx\"]\n",
    "\n",
    "relDiff = (beta - idealBeta) / idealBeta\n",
    "maxBetaBeat = np.max(np.abs(relDiff)) * 100  # convert to percent\n",
    "print(\"{:.2f}%\".format(maxBetaBeat))"
   ]
  },
  {
   "cell_type": "markdown",
   "id": "dramatic-pendant",
   "metadata": {},
   "source": [
    "identify largest deviation from ideal multipole settings"
   ]
  },
  {
   "cell_type": "code",
   "execution_count": 23,
   "id": "naughty-africa",
   "metadata": {},
   "outputs": [
    {
     "name": "stdout",
     "output_type": "stream",
     "text": [
      "1.93%\n"
     ]
    }
   ],
   "source": [
    "weights, idealWeights = list(), list()\n",
    "for e in range(len(model.elements)):\n",
    "    for m in range(len(model.elements[e].maps)):\n",
    "        if model.elements[e].maps[m].weight.requires_grad:\n",
    "            weights.append(model.elements[e].maps[m].weight.item())\n",
    "            idealWeights.append(perturbedModel.elements[e].maps[m].weight.item())\n",
    "\n",
    "weights, idealWeights = np.array(weights), np.array(idealWeights)\n",
    "relWeightDiff = (weights - idealWeights) / idealWeights\n",
    "maxWeightDeviation = np.max(np.abs(relWeightDiff)) * 100  # convert to percent\n",
    "print(\"{:.2f}%\".format(maxWeightDeviation))"
   ]
  },
  {
   "cell_type": "code",
   "execution_count": null,
   "id": "hundred-warren",
   "metadata": {},
   "outputs": [],
   "source": []
  }
 ],
 "metadata": {
  "kernelspec": {
   "display_name": "Python 3",
   "language": "python",
   "name": "python3"
  },
  "language_info": {
   "codemirror_mode": {
    "name": "ipython",
    "version": 3
   },
   "file_extension": ".py",
   "mimetype": "text/x-python",
   "name": "python",
   "nbconvert_exporter": "python",
   "pygments_lexer": "ipython3",
   "version": "3.8.5"
  }
 },
 "nbformat": 4,
 "nbformat_minor": 5
}
